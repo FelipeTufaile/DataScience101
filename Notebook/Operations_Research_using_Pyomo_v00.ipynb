{
  "nbformat": 4,
  "nbformat_minor": 0,
  "metadata": {
    "colab": {
      "provenance": [],
      "authorship_tag": "ABX9TyNpaS7h8456fdsE/ePIDcn/",
      "include_colab_link": true
    },
    "kernelspec": {
      "name": "python3",
      "display_name": "Python 3"
    },
    "language_info": {
      "name": "python"
    }
  },
  "cells": [
    {
      "cell_type": "markdown",
      "metadata": {
        "id": "view-in-github",
        "colab_type": "text"
      },
      "source": [
        "<a href=\"https://colab.research.google.com/github/FelipeTufaile/Misc_DS_Notebooks/blob/main/Notebook/Operations_Research_using_Pyomo_v00.ipynb\" target=\"_parent\"><img src=\"https://colab.research.google.com/assets/colab-badge.svg\" alt=\"Open In Colab\"/></a>"
      ]
    },
    {
      "cell_type": "markdown",
      "source": [
        "### **Operations Research**\n",
        "\n",
        "**Summary**: Operations research (OR) is a field of study that utilizes mathematical modeling, statistical analysis, and optimization techniques to solve complex problems and make informed decisions in various domains. It aims to improve the efficiency, effectiveness, and overall performance of operational systems.\n",
        "\n",
        "OR involves the application of quantitative methods to analyze and optimize processes, systems, and decision-making. It encompasses a wide range of techniques and methodologies, including mathematical programming, simulation, queuing theory, network analysis, and forecasting.\n",
        "\n",
        "The main objective of operations research is to provide decision-makers with objective and data-driven insights to help them make informed choices and allocate resources optimally. By formulating real-world problems into mathematical models, OR practitioners can analyze different scenarios, evaluate trade-offs, and identify the best possible solutions or strategies.\n",
        "\n",
        "**Rerences**:\n",
        "\n",
        "● KITTEL, Charles. The nature and development of operations research. Science, v. 105, n. 2719, p.150-153, 1947. \\\n",
        "\n",
        "● HILLIER, Frederick S.; LIEBERMAN, Gerald J. Introdução à pesquisa operacional. McGraw Hill Brasil, 2013. \\\n",
        "\n",
        "● TAHA, Hamdy A. Operations Research. Pearson Education, 2008.\n",
        "\n",
        "**Python Libraries**:\n",
        "\n",
        "pyomo, cplex."
      ],
      "metadata": {
        "id": "FDnzsyxXnXUR"
      }
    },
    {
      "cell_type": "code",
      "execution_count": 44,
      "metadata": {
        "colab": {
          "base_uri": "https://localhost:8080/"
        },
        "id": "3J8j1BKJbTE8",
        "outputId": "3a37710c-28fd-4f2b-984c-4014288599c4"
      },
      "outputs": [
        {
          "output_type": "stream",
          "name": "stdout",
          "text": [
            "Looking in indexes: https://pypi.org/simple, https://us-python.pkg.dev/colab-wheels/public/simple/\n",
            "Requirement already satisfied: pyomo in /usr/local/lib/python3.10/dist-packages (6.6.1)\n",
            "Requirement already satisfied: ply in /usr/local/lib/python3.10/dist-packages (from pyomo) (3.11)\n",
            "Looking in indexes: https://pypi.org/simple, https://us-python.pkg.dev/colab-wheels/public/simple/\n",
            "Requirement already satisfied: cplex in /usr/local/lib/python3.10/dist-packages (22.1.1.0)\n"
          ]
        }
      ],
      "source": [
        "# Installing libraries\n",
        "!pip install pyomo\n",
        "!pip install cplex\n",
        "!apt-get install -y -qq glpk-utils"
      ]
    },
    {
      "cell_type": "code",
      "source": [
        "# Importing pyomo\n",
        "from pyomo.environ import *\n",
        "from pyomo.core.base.set_types import NonNegativeIntegers, Binary"
      ],
      "metadata": {
        "id": "kZJC30umbYDv"
      },
      "execution_count": 45,
      "outputs": []
    },
    {
      "cell_type": "markdown",
      "source": [
        "**Example 01:**\n",
        "\n",
        "Consider a furniture factory that produces three types of furniture: **single table**, **double table**, and **chairs**.\n",
        "\n",
        "\n",
        "*   Each single table demands 10kg of wood, 5 hours to assemble and 2 hours for painting;\n",
        "*   Each double table demands 15kg of wood, 8 hours to assemble and 3 hours for painting;\n",
        "*   Each chair demands 5kg of wood, 2 hours to assemble and 1 hours for painting;\n",
        "\n",
        "The factory has 500kg of wood, 200 hours of assembling time and 50 hours of painting time. Furthermore, each single table is sold for USD 300, each double table is sold for USD 500 and each chair is sold for USD 100. What should be the number of single table, double table and chair produced if the company wants to maximize its revenue?"
      ],
      "metadata": {
        "id": "1nt0m7w9p35m"
      }
    },
    {
      "cell_type": "code",
      "source": [
        "# Creating a ConcreteModel class\n",
        "model = ConcreteModel()\n",
        "\n",
        "# Adding variables to the model\n",
        "model.qt_single_table   = Var(domain=NonNegativeIntegers)  # variable to count number of single tables\n",
        "model.qt_double_table   = Var(domain=NonNegativeIntegers)  # variable to count number of double tables\n",
        "model.qt_chair          = Var(domain=NonNegativeIntegers)  # variable to count number of chairs\n",
        "\n",
        "# Adding constraints\n",
        "model.constraint_wood           = Constraint(expr = 10*model.qt_single_table + 15*model.qt_double_table + 5*model.qt_chair <= 500)\n",
        "model.constraint_work_hours     = Constraint(expr =  5*model.qt_single_table +  8*model.qt_double_table + 2*model.qt_chair <= 200)\n",
        "model.constraint_painting_hours = Constraint(expr =  2*model.qt_single_table +  3*model.qt_double_table + 1*model.qt_chair <=  50)\n",
        "\n",
        "# Adding objective\n",
        "model.revenue = Objective(expr = 300*model.qt_single_table + 500*model.qt_double_table + 100*model.qt_chair, sense = maximize)\n",
        "\n",
        "# Building solver\n",
        "solver = SolverFactory(\"glpk\")\n",
        "solver.solve(model)"
      ],
      "metadata": {
        "colab": {
          "base_uri": "https://localhost:8080/"
        },
        "id": "vGr5tX8KmEub",
        "outputId": "e7c876f8-7bd9-403e-bcf0-a7b1adf09bca"
      },
      "execution_count": 46,
      "outputs": [
        {
          "output_type": "execute_result",
          "data": {
            "text/plain": [
              "{'Problem': [{'Name': 'unknown', 'Lower bound': 8300.0, 'Upper bound': 8300.0, 'Number of objectives': 1, 'Number of constraints': 3, 'Number of variables': 3, 'Number of nonzeros': 9, 'Sense': 'maximize'}], 'Solver': [{'Status': 'ok', 'Termination condition': 'optimal', 'Statistics': {'Branch and bound': {'Number of bounded subproblems': '1', 'Number of created subproblems': '1'}}, 'Error rc': 0, 'Time': 0.00636601448059082}], 'Solution': [OrderedDict([('number of solutions', 0), ('number of solutions displayed', 0)])]}"
            ]
          },
          "metadata": {},
          "execution_count": 46
        }
      ]
    },
    {
      "cell_type": "code",
      "source": [
        "# Printing results\n",
        "print(f\"Income: {model.revenue()}\")\n",
        "print(f\"Qtd. Single Table: {model.qt_single_table()}\")\n",
        "print(f\"Qtd. Double Table: {model.qt_double_table()}\")\n",
        "print(f\"Qtd. Chair: {model.qt_chair()}\")"
      ],
      "metadata": {
        "colab": {
          "base_uri": "https://localhost:8080/"
        },
        "id": "bZLhh15MpRVI",
        "outputId": "fa46660e-2826-450e-e586-920ce139b5e5"
      },
      "execution_count": 47,
      "outputs": [
        {
          "output_type": "stream",
          "name": "stdout",
          "text": [
            "Income: 8300.0\n",
            "Qtd. Single Table: 1.0\n",
            "Qtd. Double Table: 16.0\n",
            "Qtd. Chair: 0.0\n"
          ]
        }
      ]
    },
    {
      "cell_type": "markdown",
      "source": [
        "**Example 02:** \\\n",
        "\n",
        "A higher education institution has opened a call for support for technology-based projects and has a budget of R$4000. Knowing the costs for implementing each project and the expected return, model a binary solution problem for project selection. Assume that at least three projects need to be selected.\n",
        "\n",
        "| Projeto   | Investiment  | Return    |\n",
        "|-----------|--------------|-----------|\n",
        "| Projeto 1 | USD 1000     | USD 2000  |\n",
        "| Projeto 2 | USD 1500     | USD 2500  |\n",
        "| Projeto 3 | USD 2000     | USD 3000  |\n",
        "| Projeto 4 | USD 1200     | USD 2300  |\n",
        "| Projeto 5 | USD 1700     | USD 2900  |"
      ],
      "metadata": {
        "id": "-KR2GxUCUSaY"
      }
    },
    {
      "cell_type": "code",
      "source": [
        "# Creating a ConcreteModel class\n",
        "model = ConcreteModel()\n",
        "\n",
        "# Adding variables to the model\n",
        "model.slct_prjct_1 = Var(domain=Binary)  # flag to indicate selection of project 1\n",
        "model.slct_prjct_2 = Var(domain=Binary)  # flag to indicate selection of project 2\n",
        "model.slct_prjct_3 = Var(domain=Binary)  # flag to indicate selection of project 3\n",
        "model.slct_prjct_4 = Var(domain=Binary)  # flag to indicate selection of project 4\n",
        "model.slct_prjct_5 = Var(domain=Binary)  # flag to indicate selection of project 5\n",
        "\n",
        "# Adding objective\n",
        "model.revenue = Objective(expr = 2000*model.slct_prjct_1 + 2500*model.slct_prjct_2  + 3000*model.slct_prjct_3 + 2300*model.slct_prjct_4 + 2900*model.slct_prjct_5, sense = maximize)\n",
        "\n",
        "# Adding constraints\n",
        "model.max_cost = Constraint(expr = 1000*model.slct_prjct_1 + 1500*model.slct_prjct_2  + 2000*model.slct_prjct_3 + 1200*model.slct_prjct_4 + 1700*model.slct_prjct_5 <= 4000)\n",
        "model.min_prjct =  Constraint(expr = model.slct_prjct_1 + model.slct_prjct_2  + model.slct_prjct_3 + model.slct_prjct_4 + model.slct_prjct_5 >= 3)\n",
        "\n",
        "# Building solver\n",
        "solver = SolverFactory(\"cplex_direct\") # Solver for binary variables\n",
        "solver.solve(model)"
      ],
      "metadata": {
        "colab": {
          "base_uri": "https://localhost:8080/"
        },
        "id": "pQZrYDdSupfW",
        "outputId": "91bf58d4-e7d3-43cb-a5a0-973c4810b8f0"
      },
      "execution_count": 48,
      "outputs": [
        {
          "output_type": "execute_result",
          "data": {
            "text/plain": [
              "{'Problem': [{'Name': '', 'Lower bound': 7200.0, 'Upper bound': 7200.0, 'Number of objectives': 1, 'Number of constraints': 2, 'Number of variables': 5, 'Number of binary variables': 5, 'Number of integer variables': 0, 'Number of continuous variables': 0, 'Number of nonzeros': None, 'Sense': -1}], 'Solver': [{'Name': 'CPLEX 22.1.1.0', 'Status': 'ok', 'Wallclock time': 0.02541828155517578, 'Termination condition': 'optimal'}], 'Solution': [OrderedDict([('number of solutions', 0), ('number of solutions displayed', 0)])]}"
            ]
          },
          "metadata": {},
          "execution_count": 48
        }
      ]
    },
    {
      "cell_type": "code",
      "source": [
        "# Printing results\n",
        "print(f\"Revenue: {model.revenue()}\")\n",
        "print(f\"Project 1 selection flag: {model.slct_prjct_1()}\")\n",
        "print(f\"Project 2 selection flag: {model.slct_prjct_2()}\")\n",
        "print(f\"Project 3 selection flag: {model.slct_prjct_3()}\")\n",
        "print(f\"Project 4 selection flag: {model.slct_prjct_4()}\")\n",
        "print(f\"Project 5 selection flag: {model.slct_prjct_5()}\")"
      ],
      "metadata": {
        "colab": {
          "base_uri": "https://localhost:8080/"
        },
        "id": "oUHBk7Odwl3-",
        "outputId": "06b13b36-e1e9-40e7-835e-79d6bf9dd99d"
      },
      "execution_count": 49,
      "outputs": [
        {
          "output_type": "stream",
          "name": "stdout",
          "text": [
            "Revenue: 7200.0\n",
            "Project 1 selection flag: 1.0\n",
            "Project 2 selection flag: 0.0\n",
            "Project 3 selection flag: 0.0\n",
            "Project 4 selection flag: 1.0\n",
            "Project 5 selection flag: 1.0\n"
          ]
        }
      ]
    },
    {
      "cell_type": "markdown",
      "source": [
        "**Example 03:** \\\n",
        "A museum is setting up a new exhibition, and the layout for the structure is represented in the figure below. A guard positioned at a door can monitor two adjacent rooms. The museum wants to position the smallest possible number of guards to monitor all the rooms. Solve this problem using an integer programming model."
      ],
      "metadata": {
        "id": "FsH_bLd0Ttrg"
      }
    },
    {
      "cell_type": "code",
      "source": [
        "from PIL import Image\n",
        "im = Image.open('/content/LayoutMuseum.PNG')\n",
        "im.show()"
      ],
      "metadata": {
        "colab": {
          "base_uri": "https://localhost:8080/",
          "height": 360
        },
        "id": "WoCNhcF0w9xO",
        "outputId": "d23e4833-88f0-4995-8d36-7ce1e66aa03c"
      },
      "execution_count": 55,
      "outputs": [
        {
          "output_type": "display_data",
          "data": {
            "text/plain": [
              "<PIL.PngImagePlugin.PngImageFile image mode=RGBA size=441x343 at 0x7FCA27CAEBC0>"
            ],
            "image/png": "[encoded data removed]"
          },
          "metadata": {}
        }
      ]
    },
    {
      "cell_type": "code",
      "source": [
        "# Creating a ConcreteModel class\n",
        "model = ConcreteModel()\n",
        "\n",
        "# Adding variables to the model\n",
        "model.x1 = Var(domain=Binary)  # flag to indicate wheter door 1 has a security agent\n",
        "model.x2 = Var(domain=Binary)  # flag to indicate wheter door 2 has a security agent\n",
        "model.x3 = Var(domain=Binary)  # flag to indicate wheter door 3 has a security agent\n",
        "model.x4 = Var(domain=Binary)  # flag to indicate wheter door 4 has a security agent\n",
        "model.x5 = Var(domain=Binary)  # flag to indicate wheter door 5 has a security agent\n",
        "model.x6 = Var(domain=Binary)  # flag to indicate wheter door 6 has a security agent\n",
        "model.x7 = Var(domain=Binary)  # flag to indicate wheter door 7 has a security agent\n",
        "model.x8 = Var(domain=Binary)  # flag to indicate wheter door 8 has a security agent\n",
        "\n",
        "# Adding objective: Minimize the number of security agent (worst case scenario: every door has an agent)\n",
        "model.security = Objective(expr = model.x1 + model.x2 + model.x3 + model.x4 + model.x5 + model.x6 + model.x7 + model.x8, sense = minimize)\n",
        "\n",
        "# Adding constraints: Indicate which rooms can share a security agent\n",
        "model.romm_A = Constraint(expr = model.x1 + model.x3 >= 1) # Because of room A\n",
        "model.romm_B = Constraint(expr = model.x1 + model.x2 >= 1) # Because of room B\n",
        "model.romm_C = Constraint(expr = model.x2 + model.x4 >= 1) # Because of room C\n",
        "model.romm_D = Constraint(expr = model.x4 + model.x5 >= 1) # Because of room D\n",
        "model.romm_E = Constraint(expr = model.x5 + model.x6 >= 1) # Because of room E\n",
        "model.romm_F = Constraint(expr = model.x6 + model.x7 >= 1) # Because of room F\n",
        "model.romm_G = Constraint(expr = model.x7 + model.x8 >= 1) # Because of room G\n",
        "model.romm_H = Constraint(expr =            model.x8 == 1) # Because of room H\n",
        "\n",
        "# Building solver\n",
        "solver = SolverFactory(\"cplex_direct\") # Solver for binary variables\n",
        "solver.solve(model)"
      ],
      "metadata": {
        "colab": {
          "base_uri": "https://localhost:8080/"
        },
        "id": "wO3RcaqPyStF",
        "outputId": "c58476b1-0292-4402-fba4-45b21007ab03"
      },
      "execution_count": 56,
      "outputs": [
        {
          "output_type": "execute_result",
          "data": {
            "text/plain": [
              "{'Problem': [{'Name': '', 'Lower bound': 4.0, 'Upper bound': 4.0, 'Number of objectives': 1, 'Number of constraints': 8, 'Number of variables': 8, 'Number of binary variables': 8, 'Number of integer variables': 0, 'Number of continuous variables': 0, 'Number of nonzeros': None, 'Sense': 1}], 'Solver': [{'Name': 'CPLEX 22.1.1.0', 'Status': 'ok', 'Wallclock time': 0.001577138900756836, 'Termination condition': 'optimal'}], 'Solution': [OrderedDict([('number of solutions', 0), ('number of solutions displayed', 0)])]}"
            ]
          },
          "metadata": {},
          "execution_count": 56
        }
      ]
    },
    {
      "cell_type": "code",
      "source": [
        "# Printing results\n",
        "print(f\"Number of security agents: {model.security()}\")\n",
        "print(f\"Door 1 security agent flag: {model.x1()}\")\n",
        "print(f\"Door 2 security agent flag: {model.x2()}\")\n",
        "print(f\"Door 3 security agent flag: {model.x3()}\")\n",
        "print(f\"Door 4 security agent flag: {model.x4()}\")\n",
        "print(f\"Door 5 security agent flag: {model.x5()}\")\n",
        "print(f\"Door 6 security agent flag: {model.x6()}\")\n",
        "print(f\"Door 7 security agent flag: {model.x7()}\")\n",
        "print(f\"Door 8 security agent flag: {model.x8()}\")"
      ],
      "metadata": {
        "colab": {
          "base_uri": "https://localhost:8080/"
        },
        "id": "MFf91l5ZS9qb",
        "outputId": "e34b199f-defe-4c99-ae6f-76c4eb138c8e"
      },
      "execution_count": 57,
      "outputs": [
        {
          "output_type": "stream",
          "name": "stdout",
          "text": [
            "Number of security agents: 4.0\n",
            "Door 1 security agent flag: 1.0\n",
            "Door 2 security agent flag: 0.0\n",
            "Door 3 security agent flag: 0.0\n",
            "Door 4 security agent flag: 1.0\n",
            "Door 5 security agent flag: 0.0\n",
            "Door 6 security agent flag: 1.0\n",
            "Door 7 security agent flag: 0.0\n",
            "Door 8 security agent flag: 1.0\n"
          ]
        }
      ]
    },
    {
      "cell_type": "code",
      "source": [],
      "metadata": {
        "id": "tXJKeBzNTYL_"
      },
      "execution_count": null,
      "outputs": []
    }
  ]
}